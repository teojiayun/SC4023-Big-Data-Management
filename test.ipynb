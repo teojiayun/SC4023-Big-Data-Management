{
 "cells": [
  {
   "cell_type": "code",
   "execution_count": 2,
   "metadata": {},
   "outputs": [],
   "source": [
    "import pandas as pd\n",
    "import struct\n",
    "import os\n"
   ]
  },
  {
   "cell_type": "code",
   "execution_count": null,
   "metadata": {},
   "outputs": [],
   "source": [
    "class ColumnStore:\n",
    "    def __init__(self, csv_file, store_dir=\"ColumnStore\"):\n",
    "        \"\"\"\n",
    "        Initialize Column Store object with the provided csv file\n",
    "\n",
    "        Args:\n",
    "        - csv_file: Path to the CSV file containing the data.\n",
    "        - store_dir: Directory where the column data will be stored.\n",
    "        \"\"\"\n",
    "        \n",
    "        self.csv_file = csv_file\n",
    "        self.store_dir = store_dir\n",
    "        self.expected_data_types = {\n",
    "            'month': str,\n",
    "            'town': str,\n",
    "            'flat_type': str,\n",
    "            'block': str,\n",
    "            'street_name': str,\n",
    "            'storey_range': str,\n",
    "            'floor_area_sqm': float,\n",
    "            'flat_model': str,\n",
    "            'lease_commence_date': int,\n",
    "            'resale_price': float\n",
    "        }\n",
    "\n",
    "        if not os.path.exists(self.store_dir):\n",
    "            os.makedirs(self.store_dir)\n",
    "\n",
    "    def extract_and_store(self):\n",
    "        \"\"\"\n",
    "        Reads CSV and stores data in separate binary files per column.\n",
    "        \n",
    "        Args:\n",
    "        - None\n",
    "        \"\"\"\n",
    "        df = pd.read_csv(self.csv_file)\n",
    "        df = df.head(10)\n",
    "\n",
    "        for column_name in df.columns:\n",
    "            column_data = df[column_name].fillna(\"@#*NULL@#*\")\n",
    "            expected_type = self.expected_data_types.get(column_name, str) \n",
    "            file_path = os.path.join(self.store_dir, f\"{column_name}.store\")\n",
    "\n",
    "            with open(file_path, 'wb') as f:\n",
    "                for value in column_data:\n",
    "                    if expected_type == str:\n",
    "                        f.write(value.encode('utf-8')[:50].ljust(50, b'\\x00'))  # Fixed 50-byte strings\n",
    "                    elif expected_type == int:\n",
    "                        f.write(struct.pack('i', int(value))) # Store as 4-byte integer\n",
    "                    elif expected_type == float:\n",
    "                        f.write(struct.pack('d', float(value)))  # Store as 8-byte double\n",
    "\n",
    "    def load_column(self, column_name):\n",
    "        \"\"\"\n",
    "        Loads a column from its binary file.\n",
    "        \n",
    "        Args:\n",
    "        - column_name: The column name to be loaded\n",
    "        \"\"\"\n",
    "\n",
    "        file_path = os.path.join(self.store_dir, f\"{column_name}.store\")\n",
    "        data = []\n",
    "\n",
    "        if not os.path.exists(file_path):\n",
    "            raise FileNotFoundError(f\"Column '{column_name}' not found in storage.\")\n",
    "\n",
    "        expected_type = self.expected_data_types.get(column_name, str)  # Default to string\n",
    "\n",
    "        with open(file_path, 'rb') as f:\n",
    "            while True:\n",
    "                if expected_type == str:\n",
    "                    chunk = f.read(50)  # Read fixed 50-byte string\n",
    "                    if not chunk:\n",
    "                        break\n",
    "                    data.append(chunk.decode('utf-8').strip('\\x00'))\n",
    "                elif expected_type == int:\n",
    "                    chunk = f.read(4)  # Read 4-byte integer\n",
    "                    if not chunk:\n",
    "                        break\n",
    "                    data.append(struct.unpack('i', chunk)[0])\n",
    "                elif expected_type == float:\n",
    "                    chunk = f.read(8)  # Read 8-byte double\n",
    "                    if not chunk:\n",
    "                        break\n",
    "                    data.append(struct.unpack('d', chunk)[0])\n",
    "\n",
    "        return data\n",
    "\n",
    "    def query(self, column_name, condition=lambda x: True):\n",
    "        \"\"\"Queries a specific column with a condition.\"\"\"\n",
    "        data = self.load_column(column_name)\n",
    "        return [val for val in data if condition(val)]"
   ]
  },
  {
   "cell_type": "code",
   "execution_count": 23,
   "metadata": {},
   "outputs": [],
   "source": [
    "# Example Usage\n",
    "csv_file = \"ResalePricesSingapore.csv\"\n",
    "store = ColumnStore(csv_file)\n",
    "\n",
    "# Extract and store data as binary\n",
    "store.extract_and_store()"
   ]
  },
  {
   "cell_type": "code",
   "execution_count": 33,
   "metadata": {},
   "outputs": [
    {
     "name": "stdout",
     "output_type": "stream",
     "text": [
      "First 10 towns: ['ANG MO KIO', 'ANG MO KIO', 'ANG MO KIO', 'ANG MO KIO', 'ANG MO KIO', 'ANG MO KIO', 'ANG MO KIO', 'ANG MO KIO', 'ANG MO KIO', 'ANG MO KIO']\n",
      "High resale prices: [315000.0, 318000.0, 327000.0, 328000.0, 330000.0, 331000.0, 333000.0]\n"
     ]
    }
   ],
   "source": [
    "# Load and print first 10 towns\n",
    "towns = store.load_column(\"town\")\n",
    "print(\"First 10 towns:\", towns[:10])\n",
    "\n",
    "# Query resale prices greater than 500,000\n",
    "high_prices = store.query(\"resale_price\", lambda x: x > 300000)\n",
    "print(\"High resale prices:\", high_prices[:10])"
   ]
  },
  {
   "cell_type": "code",
   "execution_count": null,
   "metadata": {},
   "outputs": [],
   "source": []
  }
 ],
 "metadata": {
  "kernelspec": {
   "display_name": "base",
   "language": "python",
   "name": "python3"
  },
  "language_info": {
   "codemirror_mode": {
    "name": "ipython",
    "version": 3
   },
   "file_extension": ".py",
   "mimetype": "text/x-python",
   "name": "python",
   "nbconvert_exporter": "python",
   "pygments_lexer": "ipython3",
   "version": "3.11.5"
  }
 },
 "nbformat": 4,
 "nbformat_minor": 2
}
